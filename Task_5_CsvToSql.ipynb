{
 "cells": [
  {
   "cell_type": "code",
   "execution_count": 5,
   "id": "9222743e-fe11-4be1-be53-e28d8d2bf424",
   "metadata": {},
   "outputs": [],
   "source": [
    "# pip install pyodbc sqlalchemy"
   ]
  },
  {
   "cell_type": "code",
   "execution_count": 6,
   "id": "229f1761-0e4f-4010-82fb-40a3fa850185",
   "metadata": {},
   "outputs": [],
   "source": [
    "import pandas as pd\n",
    "from sqlalchemy import create_engine\n",
    "\n",
    "# Your CSV\n",
    "csv_file = \"final_user_satisfaction.csv\"\n",
    "df = pd.read_csv(csv_file)\n"
   ]
  },
  {
   "cell_type": "code",
   "execution_count": 7,
   "id": "320f314e-12a0-471e-88ea-ec17c296274b",
   "metadata": {},
   "outputs": [
    {
     "name": "stdout",
     "output_type": "stream",
     "text": [
      "CSV data successfully transferred to SQL Server LocalDB!\n"
     ]
    }
   ],
   "source": [
    "from sqlalchemy import create_engine, text\n",
    "\n",
    "# LocalDB connection string\n",
    "connection_string = (\n",
    "    \"mssql+pyodbc://(localdb)\\\\MSSQLLocalDB/NexthikesDB\"\n",
    "    \"?driver=ODBC+Driver+17+for+SQL+Server&trusted_connection=yes\"\n",
    ")\n",
    "\n",
    "# Create engine\n",
    "engine = create_engine(connection_string)\n",
    "\n",
    "# Write DataFrame to SQL\n",
    "df.to_sql(\"final_user_satisfaction\", engine, if_exists=\"replace\", index=False)\n",
    "\n",
    "print(\"CSV data successfully transferred to SQL Server LocalDB!\")\n",
    "\n",
    "# # Test query\n",
    "# try:\n",
    "#     with engine.connect() as conn:\n",
    "#         result = conn.execute(text(\"SELECT name FROM sys.databases\"))\n",
    "#         print(\"Connection successful! Databases available:\")\n",
    "#         for row in result:\n",
    "#             print(row[0])\n",
    "# except Exception as e:\n",
    "#     print(\" Connection failed:\", e)\n"
   ]
  }
 ],
 "metadata": {
  "kernelspec": {
   "display_name": "Python 3 (ipykernel)",
   "language": "python",
   "name": "python3"
  },
  "language_info": {
   "codemirror_mode": {
    "name": "ipython",
    "version": 3
   },
   "file_extension": ".py",
   "mimetype": "text/x-python",
   "name": "python",
   "nbconvert_exporter": "python",
   "pygments_lexer": "ipython3",
   "version": "3.12.4"
  }
 },
 "nbformat": 4,
 "nbformat_minor": 5
}
